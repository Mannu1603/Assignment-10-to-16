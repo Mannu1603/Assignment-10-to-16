{
 "cells": [
  {
   "cell_type": "code",
   "execution_count": 45,
   "metadata": {
    "id": "eqp7Q6rWnX20"
   },
   "outputs": [],
   "source": [
    "#Social_Network_Ads.csv"
   ]
  },
  {
   "cell_type": "markdown",
   "metadata": {
    "id": "1jSlqZcZnmrD"
   },
   "source": [
    "**Importing the libraries**"
   ]
  },
  {
   "cell_type": "code",
   "execution_count": 46,
   "metadata": {
    "id": "ACJTKMfInp-E"
   },
   "outputs": [],
   "source": [
    "import pandas as pd\n",
    "import numpy as np\n",
    "import matplotlib.pyplot as plt"
   ]
  },
  {
   "cell_type": "markdown",
   "metadata": {
    "id": "fRZkaj-dnxIj"
   },
   "source": [
    "**Importing the dataset**"
   ]
  },
  {
   "cell_type": "code",
   "execution_count": 47,
   "metadata": {
    "id": "SfTR4mVDnqBV"
   },
   "outputs": [
    {
     "data": {
      "text/html": [
       "<div>\n",
       "<style scoped>\n",
       "    .dataframe tbody tr th:only-of-type {\n",
       "        vertical-align: middle;\n",
       "    }\n",
       "\n",
       "    .dataframe tbody tr th {\n",
       "        vertical-align: top;\n",
       "    }\n",
       "\n",
       "    .dataframe thead th {\n",
       "        text-align: right;\n",
       "    }\n",
       "</style>\n",
       "<table border=\"1\" class=\"dataframe\">\n",
       "  <thead>\n",
       "    <tr style=\"text-align: right;\">\n",
       "      <th></th>\n",
       "      <th>User ID</th>\n",
       "      <th>Gender</th>\n",
       "      <th>Age</th>\n",
       "      <th>EstimatedSalary</th>\n",
       "      <th>Purchased</th>\n",
       "    </tr>\n",
       "  </thead>\n",
       "  <tbody>\n",
       "    <tr>\n",
       "      <th>0</th>\n",
       "      <td>15624510</td>\n",
       "      <td>Male</td>\n",
       "      <td>19</td>\n",
       "      <td>19000</td>\n",
       "      <td>0</td>\n",
       "    </tr>\n",
       "    <tr>\n",
       "      <th>1</th>\n",
       "      <td>15810944</td>\n",
       "      <td>Male</td>\n",
       "      <td>35</td>\n",
       "      <td>20000</td>\n",
       "      <td>0</td>\n",
       "    </tr>\n",
       "    <tr>\n",
       "      <th>2</th>\n",
       "      <td>15668575</td>\n",
       "      <td>Female</td>\n",
       "      <td>26</td>\n",
       "      <td>43000</td>\n",
       "      <td>0</td>\n",
       "    </tr>\n",
       "    <tr>\n",
       "      <th>3</th>\n",
       "      <td>15603246</td>\n",
       "      <td>Female</td>\n",
       "      <td>27</td>\n",
       "      <td>57000</td>\n",
       "      <td>0</td>\n",
       "    </tr>\n",
       "    <tr>\n",
       "      <th>4</th>\n",
       "      <td>15804002</td>\n",
       "      <td>Male</td>\n",
       "      <td>19</td>\n",
       "      <td>76000</td>\n",
       "      <td>0</td>\n",
       "    </tr>\n",
       "  </tbody>\n",
       "</table>\n",
       "</div>"
      ],
      "text/plain": [
       "    User ID  Gender  Age  EstimatedSalary  Purchased\n",
       "0  15624510    Male   19            19000          0\n",
       "1  15810944    Male   35            20000          0\n",
       "2  15668575  Female   26            43000          0\n",
       "3  15603246  Female   27            57000          0\n",
       "4  15804002    Male   19            76000          0"
      ]
     },
     "execution_count": 47,
     "metadata": {},
     "output_type": "execute_result"
    }
   ],
   "source": [
    "df = pd.read_csv(\"Social_Network_Ads.csv\")\n",
    "df.head(5)"
   ]
  },
  {
   "cell_type": "code",
   "execution_count": 48,
   "metadata": {},
   "outputs": [
    {
     "data": {
      "text/html": [
       "<div>\n",
       "<style scoped>\n",
       "    .dataframe tbody tr th:only-of-type {\n",
       "        vertical-align: middle;\n",
       "    }\n",
       "\n",
       "    .dataframe tbody tr th {\n",
       "        vertical-align: top;\n",
       "    }\n",
       "\n",
       "    .dataframe thead th {\n",
       "        text-align: right;\n",
       "    }\n",
       "</style>\n",
       "<table border=\"1\" class=\"dataframe\">\n",
       "  <thead>\n",
       "    <tr style=\"text-align: right;\">\n",
       "      <th></th>\n",
       "      <th>Gender</th>\n",
       "      <th>Age</th>\n",
       "      <th>EstimatedSalary</th>\n",
       "      <th>Purchased</th>\n",
       "    </tr>\n",
       "  </thead>\n",
       "  <tbody>\n",
       "    <tr>\n",
       "      <th>0</th>\n",
       "      <td>Male</td>\n",
       "      <td>19</td>\n",
       "      <td>19000</td>\n",
       "      <td>0</td>\n",
       "    </tr>\n",
       "    <tr>\n",
       "      <th>1</th>\n",
       "      <td>Male</td>\n",
       "      <td>35</td>\n",
       "      <td>20000</td>\n",
       "      <td>0</td>\n",
       "    </tr>\n",
       "    <tr>\n",
       "      <th>2</th>\n",
       "      <td>Female</td>\n",
       "      <td>26</td>\n",
       "      <td>43000</td>\n",
       "      <td>0</td>\n",
       "    </tr>\n",
       "    <tr>\n",
       "      <th>3</th>\n",
       "      <td>Female</td>\n",
       "      <td>27</td>\n",
       "      <td>57000</td>\n",
       "      <td>0</td>\n",
       "    </tr>\n",
       "    <tr>\n",
       "      <th>4</th>\n",
       "      <td>Male</td>\n",
       "      <td>19</td>\n",
       "      <td>76000</td>\n",
       "      <td>0</td>\n",
       "    </tr>\n",
       "    <tr>\n",
       "      <th>...</th>\n",
       "      <td>...</td>\n",
       "      <td>...</td>\n",
       "      <td>...</td>\n",
       "      <td>...</td>\n",
       "    </tr>\n",
       "    <tr>\n",
       "      <th>395</th>\n",
       "      <td>Female</td>\n",
       "      <td>46</td>\n",
       "      <td>41000</td>\n",
       "      <td>1</td>\n",
       "    </tr>\n",
       "    <tr>\n",
       "      <th>396</th>\n",
       "      <td>Male</td>\n",
       "      <td>51</td>\n",
       "      <td>23000</td>\n",
       "      <td>1</td>\n",
       "    </tr>\n",
       "    <tr>\n",
       "      <th>397</th>\n",
       "      <td>Female</td>\n",
       "      <td>50</td>\n",
       "      <td>20000</td>\n",
       "      <td>1</td>\n",
       "    </tr>\n",
       "    <tr>\n",
       "      <th>398</th>\n",
       "      <td>Male</td>\n",
       "      <td>36</td>\n",
       "      <td>33000</td>\n",
       "      <td>0</td>\n",
       "    </tr>\n",
       "    <tr>\n",
       "      <th>399</th>\n",
       "      <td>Female</td>\n",
       "      <td>49</td>\n",
       "      <td>36000</td>\n",
       "      <td>1</td>\n",
       "    </tr>\n",
       "  </tbody>\n",
       "</table>\n",
       "<p>400 rows × 4 columns</p>\n",
       "</div>"
      ],
      "text/plain": [
       "     Gender  Age  EstimatedSalary  Purchased\n",
       "0      Male   19            19000          0\n",
       "1      Male   35            20000          0\n",
       "2    Female   26            43000          0\n",
       "3    Female   27            57000          0\n",
       "4      Male   19            76000          0\n",
       "..      ...  ...              ...        ...\n",
       "395  Female   46            41000          1\n",
       "396    Male   51            23000          1\n",
       "397  Female   50            20000          1\n",
       "398    Male   36            33000          0\n",
       "399  Female   49            36000          1\n",
       "\n",
       "[400 rows x 4 columns]"
      ]
     },
     "execution_count": 48,
     "metadata": {},
     "output_type": "execute_result"
    }
   ],
   "source": [
    "df.drop(\"User ID\",axis=1,inplace=True)\n",
    "df"
   ]
  },
  {
   "cell_type": "markdown",
   "metadata": {
    "id": "9Thl3lvkn9Kr"
   },
   "source": [
    "**Splitting the dataset into the Training set and Test set**"
   ]
  },
  {
   "cell_type": "code",
   "execution_count": 49,
   "metadata": {
    "id": "sp359H4XnqD3"
   },
   "outputs": [],
   "source": [
    "from sklearn.model_selection import train_test_split\n",
    "\n",
    "X = df[['Age', 'EstimatedSalary']].values \n",
    "y = df[\"Purchased\"].values \n",
    "\n",
    "X_train, X_test, y_train, y_test = train_test_split(X,y,test_size=0.3,random_state=42)"
   ]
  },
  {
   "cell_type": "markdown",
   "metadata": {
    "id": "XNNxUncRoG6K"
   },
   "source": [
    "**Feature Scaling**"
   ]
  },
  {
   "cell_type": "code",
   "execution_count": 50,
   "metadata": {
    "id": "loYjT47TnqIG"
   },
   "outputs": [
    {
     "data": {
      "text/plain": [
       "array([[-0.84252154,  0.1301563 ],\n",
       "       [ 0.04175763,  0.2777019 ],\n",
       "       [ 0.72953032, -1.31579061],\n",
       "       [ 1.61380949,  1.10395728],\n",
       "       [ 0.82778356, -1.40431797],\n",
       "       [-1.43204099, -1.25677236],\n",
       "       [-0.05649561,  0.1301563 ],\n",
       "       [ 0.43477059, -0.16493491],\n",
       "       [-0.2530021 ,  0.01211982],\n",
       "       [ 1.31904976,  2.22530386],\n",
       "       [ 0.14001087,  0.74984783],\n",
       "       [-1.33378775,  0.54328399],\n",
       "       [ 2.00682245,  0.72033871],\n",
       "       [-1.23553451, -1.43382709],\n",
       "       [ 0.33651735, -0.34198963],\n",
       "       [-0.94077478,  0.54328399],\n",
       "       [ 0.43477059,  0.2777019 ],\n",
       "       [ 0.43477059,  1.10395728],\n",
       "       [ 0.82778356,  0.74984783],\n",
       "       [ 0.9260368 ,  1.25150288],\n",
       "       [-0.44950858, -1.25677236],\n",
       "       [-1.82505395, -1.34529973],\n",
       "       [ 1.12254328,  0.54328399],\n",
       "       [-0.64601506, -1.64039093],\n",
       "       [-0.7442683 ,  0.24819278],\n",
       "       [ 1.02429004,  2.07775825],\n",
       "       [-0.54776182,  1.36953936],\n",
       "       [-0.05649561,  0.01211982],\n",
       "       [-1.9233072 ,  0.45475663],\n",
       "       [ 0.43477059,  0.24819278],\n",
       "       [-1.03902802,  0.39573838],\n",
       "       [ 0.23826411, -0.16493491],\n",
       "       [ 1.90856921,  0.10064718],\n",
       "       [-1.13728127, -1.64039093],\n",
       "       [-1.13728127,  0.2777019 ],\n",
       "       [-0.84252154, -0.81413556],\n",
       "       [-0.44950858,  2.31383122],\n",
       "       [ 0.14001087, -0.84364468],\n",
       "       [ 1.61380949,  0.98592079],\n",
       "       [-0.15474885, -1.10922676],\n",
       "       [ 0.82778356, -1.13873588],\n",
       "       [ 0.23826411,  2.10726737],\n",
       "       [-0.05649561, -0.25346227],\n",
       "       [-0.84252154,  2.2843221 ],\n",
       "       [-0.05649561, -0.40100787],\n",
       "       [-0.2530021 , -0.60757171],\n",
       "       [ 0.43477059, -0.51904435],\n",
       "       [-0.2530021 , -0.96168116],\n",
       "       [ 0.33651735, -1.19775412],\n",
       "       [ 0.23826411,  0.04162894],\n",
       "       [-1.13728127, -1.64039093],\n",
       "       [-0.64601506, -0.07640754],\n",
       "       [-0.2530021 , -0.51904435],\n",
       "       [-0.2530021 , -1.34529973],\n",
       "       [-0.7442683 ,  0.54328399],\n",
       "       [ 0.33651735,  0.04162894],\n",
       "       [-0.94077478,  1.54659408],\n",
       "       [ 0.82778356,  0.33672014],\n",
       "       [-1.53029423, -0.22395315],\n",
       "       [ 0.72953032, -1.43382709],\n",
       "       [-0.7442683 , -0.63708083],\n",
       "       [-0.35125534, -1.34529973],\n",
       "       [ 0.23826411,  0.1301563 ],\n",
       "       [-0.54776182,  1.36953936],\n",
       "       [-1.43204099,  0.33672014],\n",
       "       [-1.13728127,  0.2777019 ],\n",
       "       [ 1.02429004,  1.78266705],\n",
       "       [ 2.10507569,  2.13677649],\n",
       "       [-0.2530021 , -0.46002611],\n",
       "       [-0.35125534, -0.81413556],\n",
       "       [ 0.14001087, -0.28297139],\n",
       "       [-1.03902802,  0.74984783],\n",
       "       [ 2.20332893,  0.36622926],\n",
       "       [-1.33378775, -0.46002611],\n",
       "       [ 2.00682245,  2.16628562],\n",
       "       [ 1.51555624,  0.98592079],\n",
       "       [-0.2530021 ,  0.24819278],\n",
       "       [-0.15474885,  0.83837519],\n",
       "       [ 1.90856921, -0.31248051],\n",
       "       [-0.05649561,  1.95972177],\n",
       "       [-0.44950858, -0.81413556],\n",
       "       [ 0.33651735,  0.01211982],\n",
       "       [ 1.417303  , -1.46333621],\n",
       "       [ 1.417303  ,  2.34334034],\n",
       "       [-0.05649561, -0.0173893 ],\n",
       "       [-1.13728127,  0.39573838],\n",
       "       [-1.13728127,  0.04162894],\n",
       "       [-1.13728127, -0.54855347],\n",
       "       [ 0.33651735, -0.31248051],\n",
       "       [-0.64601506, -0.13542579],\n",
       "       [-0.05649561,  2.16628562],\n",
       "       [ 0.04175763, -0.28297139],\n",
       "       [-0.64601506, -1.07971764],\n",
       "       [ 0.43477059,  0.1301563 ],\n",
       "       [ 0.82778356,  1.36953936],\n",
       "       [-0.15474885, -0.54855347],\n",
       "       [ 0.04175763,  0.01211982],\n",
       "       [ 1.12254328,  0.51377487],\n",
       "       [ 1.90856921, -1.10922676],\n",
       "       [ 1.02429004,  1.98923089],\n",
       "       [ 0.9260368 , -0.60757171],\n",
       "       [-0.44950858, -0.04689842],\n",
       "       [-0.05649561,  2.22530386],\n",
       "       [-1.72680071,  0.33672014],\n",
       "       [ 0.23826411, -0.69609908],\n",
       "       [-0.2530021 , -1.43382709],\n",
       "       [-1.72680071, -1.0206994 ],\n",
       "       [ 0.72953032, -0.75511732],\n",
       "       [-1.13728127, -0.81413556],\n",
       "       [ 2.00682245,  0.89739343],\n",
       "       [ 0.23826411, -0.40100787],\n",
       "       [ 0.04175763,  1.22199376],\n",
       "       [-0.05649561,  0.2777019 ],\n",
       "       [ 1.12254328, -1.25677236],\n",
       "       [-0.15474885,  0.1301563 ],\n",
       "       [ 0.33651735,  0.04162894],\n",
       "       [-0.2530021 , -0.31248051],\n",
       "       [ 0.53302383,  1.72364881],\n",
       "       [ 0.33651735,  0.48426575],\n",
       "       [ 0.04175763,  1.25150288],\n",
       "       [ 2.00682245, -1.40431797],\n",
       "       [-1.13728127, -1.13873588],\n",
       "       [-0.54776182, -1.55186357],\n",
       "       [ 0.33651735, -0.54855347],\n",
       "       [-0.64601506, -1.55186357],\n",
       "       [-0.2530021 ,  0.51377487],\n",
       "       [ 1.02429004, -1.05020852],\n",
       "       [-1.03902802,  0.54328399],\n",
       "       [-0.2530021 ,  0.77935695],\n",
       "       [ 0.43477059,  0.07113806],\n",
       "       [-1.62854747, -0.07640754],\n",
       "       [ 0.33651735,  0.04162894],\n",
       "       [-0.44950858, -0.31248051],\n",
       "       [ 0.14001087,  1.87119441],\n",
       "       [-0.94077478,  0.39573838],\n",
       "       [ 0.82778356,  0.51377487],\n",
       "       [-1.33378775, -0.37149875],\n",
       "       [-0.64601506,  1.39904848],\n",
       "       [ 1.22079652,  0.51377487],\n",
       "       [-1.72680071,  0.33672014],\n",
       "       [-0.54776182,  1.90070353],\n",
       "       [-1.72680071,  0.45475663],\n",
       "       [-0.2530021 , -1.28628149],\n",
       "       [-0.84252154, -0.81413556],\n",
       "       [-1.62854747,  0.51377487],\n",
       "       [-0.2530021 , -0.34198963],\n",
       "       [ 0.72953032, -1.13873588],\n",
       "       [ 2.20332893, -0.84364468],\n",
       "       [-0.2530021 ,  0.60230223],\n",
       "       [-0.2530021 , -0.78462644],\n",
       "       [-1.9233072 , -0.78462644],\n",
       "       [ 0.43477059,  2.31383122],\n",
       "       [ 0.72953032,  0.24819278],\n",
       "       [ 0.23826411, -0.31248051],\n",
       "       [-1.33378775, -1.40431797],\n",
       "       [-0.44950858, -0.57806259],\n",
       "       [ 0.43477059, -0.0173893 ],\n",
       "       [ 1.71206273,  1.75315793],\n",
       "       [ 1.22079652, -0.78462644],\n",
       "       [ 1.02429004,  1.4285576 ],\n",
       "       [-1.82505395,  0.15966542],\n",
       "       [ 0.33651735,  0.04162894],\n",
       "       [ 0.23826411,  0.01211982],\n",
       "       [-1.03902802,  0.51377487],\n",
       "       [-0.15474885,  1.63512145],\n",
       "       [-0.2530021 ,  0.1301563 ],\n",
       "       [-0.2530021 , -0.37149875],\n",
       "       [-0.35125534,  1.31052112],\n",
       "       [-0.2530021 ,  0.07113806],\n",
       "       [ 2.20332893,  1.10395728],\n",
       "       [-1.23553451,  0.48426575],\n",
       "       [-1.03902802, -0.48953523],\n",
       "       [-1.62854747, -1.61088181],\n",
       "       [-0.05649561,  0.10064718],\n",
       "       [-0.2530021 , -0.93217204],\n",
       "       [ 1.61380949, -0.0173893 ],\n",
       "       [ 0.9260368 , -1.19775412],\n",
       "       [ 0.04175763, -0.60757171],\n",
       "       [-0.2530021 ,  2.25481298],\n",
       "       [-0.2530021 ,  0.18917454],\n",
       "       [ 0.33651735,  0.24819278],\n",
       "       [-0.05649561, -1.10922676],\n",
       "       [ 2.20332893, -0.7256082 ],\n",
       "       [-0.94077478, -0.34198963],\n",
       "       [-1.43204099, -0.13542579],\n",
       "       [-1.43204099, -0.22395315],\n",
       "       [-0.7442683 , -1.58137269],\n",
       "       [-1.23553451, -1.10922676],\n",
       "       [ 2.10507569,  0.36622926],\n",
       "       [ 2.00682245, -0.96168116],\n",
       "       [-1.9233072 ,  0.33672014],\n",
       "       [ 0.82778356, -0.34198963],\n",
       "       [-1.03902802, -1.58137269],\n",
       "       [ 2.00682245, -0.69609908],\n",
       "       [ 1.02429004, -1.19775412],\n",
       "       [ 1.12254328, -0.16493491],\n",
       "       [ 1.22079652, -1.0206994 ],\n",
       "       [ 1.51555624,  0.04162894],\n",
       "       [ 0.23826411, -0.40100787],\n",
       "       [ 1.417303  ,  1.281012  ],\n",
       "       [ 2.10507569, -0.84364468],\n",
       "       [-0.15474885, -0.22395315],\n",
       "       [ 0.43477059,  0.98592079],\n",
       "       [-0.05649561, -0.54855347],\n",
       "       [ 1.02429004, -1.10922676],\n",
       "       [ 2.10507569, -1.22726324],\n",
       "       [-0.05649561,  0.24819278],\n",
       "       [ 0.23826411, -0.28297139],\n",
       "       [ 1.12254328,  0.10064718],\n",
       "       [-1.23553451,  0.57279311],\n",
       "       [-0.7442683 , -1.64039093],\n",
       "       [ 0.23826411,  0.21868366],\n",
       "       [-1.33378775,  0.39573838],\n",
       "       [ 0.04175763, -0.60757171],\n",
       "       [ 0.72953032,  1.78266705],\n",
       "       [-1.62854747,  0.04162894],\n",
       "       [-0.2530021 , -1.40431797],\n",
       "       [-0.2530021 , -1.49284533],\n",
       "       [-0.64601506,  0.54328399],\n",
       "       [-0.7442683 ,  0.2777019 ],\n",
       "       [ 0.9260368 , -0.69609908],\n",
       "       [-1.03902802,  0.57279311],\n",
       "       [-0.2530021 ,  0.04162894],\n",
       "       [-0.7442683 ,  1.34003024],\n",
       "       [ 0.14001087,  1.51708496],\n",
       "       [-0.84252154,  0.36622926],\n",
       "       [ 0.33651735, -0.22395315],\n",
       "       [ 1.02429004,  0.57279311],\n",
       "       [ 0.04175763, -0.34198963],\n",
       "       [-0.54776182, -1.55186357],\n",
       "       [ 0.14001087,  0.1301563 ],\n",
       "       [-1.13728127,  0.30721102],\n",
       "       [ 0.14001087,  1.04493904],\n",
       "       [-1.53029423, -0.46002611],\n",
       "       [-0.15474885,  1.39904848],\n",
       "       [ 2.20332893, -0.84364468],\n",
       "       [-0.94077478, -0.46002611],\n",
       "       [ 1.31904976,  1.87119441],\n",
       "       [ 1.12254328, -1.25677236],\n",
       "       [-0.15474885, -0.31248051],\n",
       "       [ 1.81031597,  0.98592079],\n",
       "       [-1.03902802, -0.37149875],\n",
       "       [-1.33378775, -1.13873588],\n",
       "       [-0.35125534,  0.04162894],\n",
       "       [-0.94077478, -1.13873588],\n",
       "       [ 1.22079652, -1.49284533],\n",
       "       [-0.44950858, -0.8731538 ],\n",
       "       [-0.84252154, -0.69609908],\n",
       "       [-1.53029423, -1.55186357],\n",
       "       [-0.7442683 ,  1.90070353],\n",
       "       [ 0.9260368 ,  1.01542992],\n",
       "       [ 0.82778356,  0.24819278],\n",
       "       [ 1.02429004,  1.87119441],\n",
       "       [ 0.9260368 , -0.63708083],\n",
       "       [ 1.12254328,  2.07775825],\n",
       "       [-0.54776182,  0.86788431],\n",
       "       [ 0.04175763,  0.01211982],\n",
       "       [-1.82505395, -1.31579061],\n",
       "       [-0.05649561,  0.18917454],\n",
       "       [ 0.9260368 , -0.57806259],\n",
       "       [ 0.23826411, -0.40100787],\n",
       "       [-0.15474885,  1.60561233],\n",
       "       [-1.72680071,  0.10064718],\n",
       "       [-0.64601506, -0.37149875],\n",
       "       [ 0.33651735, -0.75511732],\n",
       "       [ 0.43477059, -0.48953523],\n",
       "       [-0.94077478, -0.99119028],\n",
       "       [ 0.14001087,  0.07113806],\n",
       "       [-0.94077478,  0.4252475 ],\n",
       "       [ 0.04175763, -0.57806259],\n",
       "       [ 0.9260368 , -0.81413556],\n",
       "       [-0.05649561,  0.04162894],\n",
       "       [ 1.12254328, -1.0206994 ],\n",
       "       [ 0.72953032, -1.43382709],\n",
       "       [-0.2530021 ,  0.04162894],\n",
       "       [-1.33378775, -1.28628149],\n",
       "       [-1.13728127, -1.05020852],\n",
       "       [ 0.53302383,  1.84168529],\n",
       "       [ 0.14001087,  0.18917454],\n",
       "       [-0.54776182,  0.45475663]])"
      ]
     },
     "execution_count": 50,
     "metadata": {},
     "output_type": "execute_result"
    }
   ],
   "source": [
    "from sklearn.preprocessing import StandardScaler\n",
    "sc = StandardScaler()\n",
    "X_train = sc.fit_transform(X_train)\n",
    "X_test = sc.transform(X_test)\n",
    "\n",
    "X_train"
   ]
  },
  {
   "cell_type": "markdown",
   "metadata": {
    "id": "_VB4b09roPhq"
   },
   "source": [
    "**Fitting Random Forest to the Training set**"
   ]
  },
  {
   "cell_type": "code",
   "execution_count": 51,
   "metadata": {
    "id": "0UxhDc2lnqKu"
   },
   "outputs": [
    {
     "data": {
      "text/html": [
       "<style>#sk-container-id-3 {color: black;background-color: white;}#sk-container-id-3 pre{padding: 0;}#sk-container-id-3 div.sk-toggleable {background-color: white;}#sk-container-id-3 label.sk-toggleable__label {cursor: pointer;display: block;width: 100%;margin-bottom: 0;padding: 0.3em;box-sizing: border-box;text-align: center;}#sk-container-id-3 label.sk-toggleable__label-arrow:before {content: \"▸\";float: left;margin-right: 0.25em;color: #696969;}#sk-container-id-3 label.sk-toggleable__label-arrow:hover:before {color: black;}#sk-container-id-3 div.sk-estimator:hover label.sk-toggleable__label-arrow:before {color: black;}#sk-container-id-3 div.sk-toggleable__content {max-height: 0;max-width: 0;overflow: hidden;text-align: left;background-color: #f0f8ff;}#sk-container-id-3 div.sk-toggleable__content pre {margin: 0.2em;color: black;border-radius: 0.25em;background-color: #f0f8ff;}#sk-container-id-3 input.sk-toggleable__control:checked~div.sk-toggleable__content {max-height: 200px;max-width: 100%;overflow: auto;}#sk-container-id-3 input.sk-toggleable__control:checked~label.sk-toggleable__label-arrow:before {content: \"▾\";}#sk-container-id-3 div.sk-estimator input.sk-toggleable__control:checked~label.sk-toggleable__label {background-color: #d4ebff;}#sk-container-id-3 div.sk-label input.sk-toggleable__control:checked~label.sk-toggleable__label {background-color: #d4ebff;}#sk-container-id-3 input.sk-hidden--visually {border: 0;clip: rect(1px 1px 1px 1px);clip: rect(1px, 1px, 1px, 1px);height: 1px;margin: -1px;overflow: hidden;padding: 0;position: absolute;width: 1px;}#sk-container-id-3 div.sk-estimator {font-family: monospace;background-color: #f0f8ff;border: 1px dotted black;border-radius: 0.25em;box-sizing: border-box;margin-bottom: 0.5em;}#sk-container-id-3 div.sk-estimator:hover {background-color: #d4ebff;}#sk-container-id-3 div.sk-parallel-item::after {content: \"\";width: 100%;border-bottom: 1px solid gray;flex-grow: 1;}#sk-container-id-3 div.sk-label:hover label.sk-toggleable__label {background-color: #d4ebff;}#sk-container-id-3 div.sk-serial::before {content: \"\";position: absolute;border-left: 1px solid gray;box-sizing: border-box;top: 0;bottom: 0;left: 50%;z-index: 0;}#sk-container-id-3 div.sk-serial {display: flex;flex-direction: column;align-items: center;background-color: white;padding-right: 0.2em;padding-left: 0.2em;position: relative;}#sk-container-id-3 div.sk-item {position: relative;z-index: 1;}#sk-container-id-3 div.sk-parallel {display: flex;align-items: stretch;justify-content: center;background-color: white;position: relative;}#sk-container-id-3 div.sk-item::before, #sk-container-id-3 div.sk-parallel-item::before {content: \"\";position: absolute;border-left: 1px solid gray;box-sizing: border-box;top: 0;bottom: 0;left: 50%;z-index: -1;}#sk-container-id-3 div.sk-parallel-item {display: flex;flex-direction: column;z-index: 1;position: relative;background-color: white;}#sk-container-id-3 div.sk-parallel-item:first-child::after {align-self: flex-end;width: 50%;}#sk-container-id-3 div.sk-parallel-item:last-child::after {align-self: flex-start;width: 50%;}#sk-container-id-3 div.sk-parallel-item:only-child::after {width: 0;}#sk-container-id-3 div.sk-dashed-wrapped {border: 1px dashed gray;margin: 0 0.4em 0.5em 0.4em;box-sizing: border-box;padding-bottom: 0.4em;background-color: white;}#sk-container-id-3 div.sk-label label {font-family: monospace;font-weight: bold;display: inline-block;line-height: 1.2em;}#sk-container-id-3 div.sk-label-container {text-align: center;}#sk-container-id-3 div.sk-container {/* jupyter's `normalize.less` sets `[hidden] { display: none; }` but bootstrap.min.css set `[hidden] { display: none !important; }` so we also need the `!important` here to be able to override the default hidden behavior on the sphinx rendered scikit-learn.org. See: https://github.com/scikit-learn/scikit-learn/issues/21755 */display: inline-block !important;position: relative;}#sk-container-id-3 div.sk-text-repr-fallback {display: none;}</style><div id=\"sk-container-id-3\" class=\"sk-top-container\"><div class=\"sk-text-repr-fallback\"><pre>RandomForestClassifier(criterion=&#x27;entropy&#x27;, n_estimators=10, random_state=0)</pre><b>In a Jupyter environment, please rerun this cell to show the HTML representation or trust the notebook. <br />On GitHub, the HTML representation is unable to render, please try loading this page with nbviewer.org.</b></div><div class=\"sk-container\" hidden><div class=\"sk-item\"><div class=\"sk-estimator sk-toggleable\"><input class=\"sk-toggleable__control sk-hidden--visually\" id=\"sk-estimator-id-3\" type=\"checkbox\" checked><label for=\"sk-estimator-id-3\" class=\"sk-toggleable__label sk-toggleable__label-arrow\">RandomForestClassifier</label><div class=\"sk-toggleable__content\"><pre>RandomForestClassifier(criterion=&#x27;entropy&#x27;, n_estimators=10, random_state=0)</pre></div></div></div></div></div>"
      ],
      "text/plain": [
       "RandomForestClassifier(criterion='entropy', n_estimators=10, random_state=0)"
      ]
     },
     "execution_count": 51,
     "metadata": {},
     "output_type": "execute_result"
    }
   ],
   "source": [
    "from sklearn.ensemble import RandomForestClassifier\n",
    "RF = RandomForestClassifier(n_estimators = 10, criterion = 'entropy', random_state = 0)\n",
    "RF.fit(X_train, y_train)"
   ]
  },
  {
   "cell_type": "markdown",
   "metadata": {
    "id": "XOl6_ERWoYh2"
   },
   "source": [
    "**Predicting the Test set results**"
   ]
  },
  {
   "cell_type": "code",
   "execution_count": 52,
   "metadata": {
    "id": "7xFCuAXjnqPN"
   },
   "outputs": [
    {
     "data": {
      "text/plain": [
       "array([1, 0, 0, 1, 0, 0, 1, 0, 0, 0, 0, 1, 0, 0, 0, 1, 1, 0, 0, 1, 0, 0,\n",
       "       1, 0, 0, 1, 1, 0, 1, 0, 0, 0, 1, 0, 1, 0, 0, 0, 0, 0, 1, 0, 0, 1,\n",
       "       0, 0, 0, 0, 0, 0, 0, 1, 0, 0, 0, 0, 1, 1, 0, 0, 0, 0, 0, 0, 0, 1,\n",
       "       1, 1, 0, 1, 0, 0, 0, 0, 1, 0, 1, 1, 0, 0, 0, 1, 1, 1, 1, 1, 0, 0,\n",
       "       0, 0, 1, 0, 0, 0, 0, 0, 1, 0, 1, 0, 1, 0, 1, 0, 0, 1, 1, 1, 1, 0,\n",
       "       0, 0, 1, 1, 0, 0, 0, 1, 0, 0], dtype=int64)"
      ]
     },
     "execution_count": 52,
     "metadata": {},
     "output_type": "execute_result"
    }
   ],
   "source": [
    "y_pred = RF.predict(X_test)\n",
    "y_pred"
   ]
  },
  {
   "cell_type": "markdown",
   "metadata": {
    "id": "pqaQ_HTZogaZ"
   },
   "source": [
    "**Making the Confusion Matrix**"
   ]
  },
  {
   "cell_type": "code",
   "execution_count": 53,
   "metadata": {
    "id": "DdqNOMK8nqSs"
   },
   "outputs": [
    {
     "data": {
      "text/plain": [
       "<AxesSubplot: xlabel='Predicted', ylabel='Actual'>"
      ]
     },
     "execution_count": 53,
     "metadata": {},
     "output_type": "execute_result"
    },
    {
     "data": {
      "image/png": "[encoded data removed]",
      "text/plain": [
       "<Figure size 432x288 with 2 Axes>"
      ]
     },
     "metadata": {
      "needs_background": "light"
     },
     "output_type": "display_data"
    }
   ],
   "source": [
    "import seaborn as sns\n",
    "from sklearn.metrics import confusion_matrix\n",
    "confusion_matrix = pd.crosstab(y_test, y_pred, rownames=['Actual'], colnames=['Predicted'])\n",
    "sns.heatmap(confusion_matrix, annot=True)"
   ]
  },
  {
   "cell_type": "markdown",
   "metadata": {
    "id": "Ko5EDqqiopBl"
   },
   "source": [
    "**Visualising the Training set results**"
   ]
  },
  {
   "cell_type": "code",
   "execution_count": 54,
   "metadata": {},
   "outputs": [
    {
     "name": "stderr",
     "output_type": "stream",
     "text": [
      "*c* argument looks like a single numeric RGB or RGBA sequence, which should be avoided as value-mapping will have precedence in case its length matches with *x* & *y*.  Please use the *color* keyword-argument or provide a 2D array with a single row if you intend to specify the same RGB or RGBA value for all points.\n",
      "*c* argument looks like a single numeric RGB or RGBA sequence, which should be avoided as value-mapping will have precedence in case its length matches with *x* & *y*.  Please use the *color* keyword-argument or provide a 2D array with a single row if you intend to specify the same RGB or RGBA value for all points.\n"
     ]
    },
    {
     "data": {
      "image/png": "[encoded data removed]",
      "text/plain": [
       "<Figure size 432x288 with 1 Axes>"
      ]
     },
     "metadata": {
      "needs_background": "light"
     },
     "output_type": "display_data"
    }
   ],
   "source": [
    "from matplotlib.colors import ListedColormap\n",
    "X_set, y_set = X_train, y_train\n",
    "X1, X2 = np.meshgrid(np.arange(start = X_set[:, 0].min() - 1, stop = X_set[:, 0].max() + 1, step = 0.01),\n",
    "                     np.arange(start = X_set[:, 1].min() - 1, stop = X_set[:, 1].max() + 1, step = 0.01))\n",
    "plt.contourf(X1, X2, RF.predict(np.array([X1.ravel(), X2.ravel()]).T).reshape(X1.shape),\n",
    "             alpha = 0.75, cmap = ListedColormap(('red', 'green')))\n",
    "plt.xlim(X1.min(), X1.max())\n",
    "plt.ylim(X2.min(), X2.max())\n",
    "for i, j in enumerate(np.unique(y_set)):\n",
    "    plt.scatter(X_set[y_set == j, 0], X_set[y_set == j, 1],\n",
    "                c = ListedColormap(('red', 'green'))(i), label = j)\n",
    "plt.title('Random Forest Classification (Training set)')\n",
    "plt.xlabel('Age')\n",
    "plt.ylabel('Estimated Salary')\n",
    "plt.legend()\n",
    "plt.show()"
   ]
  },
  {
   "cell_type": "markdown",
   "metadata": {
    "id": "ExFSX84Hou9C"
   },
   "source": [
    "**Visualising the Test set results**"
   ]
  },
  {
   "cell_type": "code",
   "execution_count": 55,
   "metadata": {
    "id": "zHbPz86Noj6d"
   },
   "outputs": [
    {
     "name": "stderr",
     "output_type": "stream",
     "text": [
      "*c* argument looks like a single numeric RGB or RGBA sequence, which should be avoided as value-mapping will have precedence in case its length matches with *x* & *y*.  Please use the *color* keyword-argument or provide a 2D array with a single row if you intend to specify the same RGB or RGBA value for all points.\n",
      "*c* argument looks like a single numeric RGB or RGBA sequence, which should be avoided as value-mapping will have precedence in case its length matches with *x* & *y*.  Please use the *color* keyword-argument or provide a 2D array with a single row if you intend to specify the same RGB or RGBA value for all points.\n"
     ]
    },
    {
     "data": {
      "image/png": "[encoded data removed]",
      "text/plain": [
       "<Figure size 432x288 with 1 Axes>"
      ]
     },
     "metadata": {
      "needs_background": "light"
     },
     "output_type": "display_data"
    }
   ],
   "source": [
    "from matplotlib.colors import ListedColormap\n",
    "X_set, y_set = X_test, y_test\n",
    "X1, X2 = np.meshgrid(np.arange(start = X_set[:, 0].min() - 1, stop = X_set[:, 0].max() + 1, step = 0.01),\n",
    "                     np.arange(start = X_set[:, 1].min() - 1, stop = X_set[:, 1].max() + 1, step = 0.01))\n",
    "plt.contourf(X1, X2, RF.predict(np.array([X1.ravel(), X2.ravel()]).T).reshape(X1.shape),\n",
    "             alpha = 0.75, cmap = ListedColormap(('red', 'green')))\n",
    "plt.xlim(X1.min(), X1.max())\n",
    "plt.ylim(X2.min(), X2.max())\n",
    "for i, j in enumerate(np.unique(y_set)):\n",
    "    plt.scatter(X_set[y_set == j, 0], X_set[y_set == j, 1],\n",
    "                c = ListedColormap(('red', 'green'))(i), label = j)\n",
    "plt.title('Random Forest Classification (Test set)')\n",
    "plt.xlabel('Age')\n",
    "plt.ylabel('Estimated Salary')\n",
    "plt.legend()\n",
    "plt.show()"
   ]
  },
  {
   "cell_type": "code",
   "execution_count": null,
   "metadata": {
    "id": "Cexs-z2Lo4p0"
   },
   "outputs": [],
   "source": []
  },
  {
   "cell_type": "code",
   "execution_count": null,
   "metadata": {
    "id": "RjB1Bbi4o4tm"
   },
   "outputs": [],
   "source": []
  },
  {
   "cell_type": "code",
   "execution_count": null,
   "metadata": {
    "id": "mRqoaIx_o4xV"
   },
   "outputs": [],
   "source": []
  },
  {
   "cell_type": "code",
   "execution_count": null,
   "metadata": {
    "id": "m__02I84nqYf"
   },
   "outputs": [],
   "source": []
  }
 ],
 "metadata": {
  "colab": {
   "name": "Random_Forest_Assignment16.ipynb",
   "provenance": []
  },
  "kernelspec": {
   "display_name": "Python 3 (ipykernel)",
   "language": "python",
   "name": "python3"
  },
  "language_info": {
   "codemirror_mode": {
    "name": "ipython",
    "version": 3
   },
   "file_extension": ".py",
   "mimetype": "text/x-python",
   "name": "python",
   "nbconvert_exporter": "python",
   "pygments_lexer": "ipython3",
   "version": "3.10.5"
  },
  "vscode": {
   "interpreter": {
    "hash": "369f2c481f4da34e4445cda3fffd2e751bd1c4d706f27375911949ba6bb62e1c"
   }
  }
 },
 "nbformat": 4,
 "nbformat_minor": 1
}
